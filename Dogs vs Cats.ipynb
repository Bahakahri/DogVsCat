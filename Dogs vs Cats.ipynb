{
 "cells": [
  {
   "cell_type": "code",
   "execution_count": 1,
   "id": "ea682d97",
   "metadata": {},
   "outputs": [],
   "source": [
    "import numpy as np\n",
    "import matplotlib.pyplot as plt\n",
    "import os\n",
    "import cv2\n",
    "\n",
    "DATADIR=\"C:/Users/21699/Desktop/PetImages\"\n",
    "CATEGORIES=[\"Dog\",\"Cat\"]\n"
   ]
  },
  {
   "cell_type": "code",
   "execution_count": 2,
   "id": "967d6d28",
   "metadata": {},
   "outputs": [],
   "source": [
    "Training_Data=[]\n",
    "\n",
    "def create_train_data():\n",
    "  for category in CATEGORIES:\n",
    "    path=os.path.join(DATADIR,category)\n",
    "    class_num=CATEGORIES.index(category)\n",
    "    for img in os.listdir(path):\n",
    "        try:\n",
    "          img_array=cv2.imread(os.path.join(path,img),cv2.IMREAD_GRAYSCALE)\n",
    "          new_array=cv2.resize(img_array,(50,50))\n",
    "          Training_Data.append([new_array,class_num])\n",
    "        except Exception as e:\n",
    "            pass\n",
    "\n",
    "create_train_data()\n"
   ]
  },
  {
   "cell_type": "code",
   "execution_count": 3,
   "id": "17595315",
   "metadata": {},
   "outputs": [
    {
     "name": "stdout",
     "output_type": "stream",
     "text": [
      "24946\n"
     ]
    }
   ],
   "source": [
    "print(len(Training_Data))"
   ]
  },
  {
   "cell_type": "code",
   "execution_count": 4,
   "id": "c96a9553",
   "metadata": {},
   "outputs": [],
   "source": [
    "import random\n",
    "random.shuffle(Training_Data)"
   ]
  },
  {
   "cell_type": "code",
   "execution_count": 5,
   "id": "65d72386",
   "metadata": {},
   "outputs": [],
   "source": [
    "X=[]\n",
    "y=[]"
   ]
  },
  {
   "cell_type": "code",
   "execution_count": 6,
   "id": "939ee454",
   "metadata": {},
   "outputs": [],
   "source": [
    "for features,labels in Training_Data:\n",
    "    X.append(features)\n",
    "    y.append(labels)\n",
    "    \n",
    "X=np.array(X).reshape(-1,50,50,1)"
   ]
  },
  {
   "cell_type": "code",
   "execution_count": 7,
   "id": "b8334476",
   "metadata": {},
   "outputs": [
    {
     "name": "stdout",
     "output_type": "stream",
     "text": [
      "(24946, 1)\n"
     ]
    }
   ],
   "source": [
    "\n",
    "y=np.array(y).reshape(-1,1)\n",
    "print(y.shape)"
   ]
  },
  {
   "cell_type": "code",
   "execution_count": 8,
   "id": "362702b3",
   "metadata": {},
   "outputs": [
    {
     "name": "stdout",
     "output_type": "stream",
     "text": [
      "Epoch 1/10\n",
      "702/702 [==============================] - 72s 91ms/step - loss: 0.6224 - accuracy: 0.6459 - val_loss: 0.5496 - val_accuracy: 0.7170\n",
      "Epoch 2/10\n",
      "702/702 [==============================] - 71s 101ms/step - loss: 0.5129 - accuracy: 0.7521 - val_loss: 0.5229 - val_accuracy: 0.7459\n",
      "Epoch 3/10\n",
      "702/702 [==============================] - 68s 98ms/step - loss: 0.4623 - accuracy: 0.7799 - val_loss: 0.4630 - val_accuracy: 0.7828\n",
      "Epoch 4/10\n",
      "702/702 [==============================] - 71s 101ms/step - loss: 0.4213 - accuracy: 0.8051 - val_loss: 0.4651 - val_accuracy: 0.7804\n",
      "Epoch 5/10\n",
      "702/702 [==============================] - 64s 91ms/step - loss: 0.3881 - accuracy: 0.8236 - val_loss: 0.4480 - val_accuracy: 0.7912\n",
      "Epoch 6/10\n",
      "702/702 [==============================] - 70s 99ms/step - loss: 0.3493 - accuracy: 0.8442 - val_loss: 0.4404 - val_accuracy: 0.7976\n",
      "Epoch 7/10\n",
      "702/702 [==============================] - 66s 94ms/step - loss: 0.3045 - accuracy: 0.8707 - val_loss: 0.4838 - val_accuracy: 0.7940\n",
      "Epoch 8/10\n",
      "702/702 [==============================] - 69s 99ms/step - loss: 0.2584 - accuracy: 0.8909 - val_loss: 0.5416 - val_accuracy: 0.7780\n",
      "Epoch 9/10\n",
      "702/702 [==============================] - 65s 92ms/step - loss: 0.2137 - accuracy: 0.9124 - val_loss: 0.5162 - val_accuracy: 0.7940\n",
      "Epoch 10/10\n",
      "702/702 [==============================] - 71s 101ms/step - loss: 0.1674 - accuracy: 0.9341 - val_loss: 0.6058 - val_accuracy: 0.7884\n"
     ]
    },
    {
     "data": {
      "text/plain": [
       "<keras.callbacks.History at 0x2bf9d0b2e50>"
      ]
     },
     "execution_count": 8,
     "metadata": {},
     "output_type": "execute_result"
    }
   ],
   "source": [
    "import tensorflow as tf\n",
    "from tensorflow.keras.models import Sequential\n",
    "from tensorflow.keras.layers import Dense, Dropout, Activation, Flatten, Conv2D, MaxPooling2D\n",
    "from tensorflow.keras.callbacks import TensorBoard\n",
    "\n",
    "NAME=\"Cats-Vs-Dogs-CNN-64x2\"\n",
    "tensorboard=TensorBoard(log_dir=\"log/{}\".format(NAME))\n",
    "\n",
    "X=X/255.0\n",
    "\n",
    "model=Sequential()\n",
    "\n",
    "model.add(Conv2D(64, (3,3), input_shape = X.shape[1:], activation=\"relu\"))\n",
    "model.add(MaxPooling2D(pool_size=(2,2)))\n",
    "\n",
    "model.add(Conv2D(64, (3,3),activation=\"relu\"))\n",
    "model.add(MaxPooling2D(pool_size=(2,2)))\n",
    "\n",
    "model.add(Flatten())\n",
    "model.add(Dense(64, activation=\"relu\"))\n",
    "\n",
    "model.add(Dense(1, activation=\"sigmoid\"))\n",
    "model.compile(loss=\"binary_crossentropy\", optimizer=\"adam\", metrics=[\"accuracy\"])\n",
    "model.fit(X, y, batch_size=32, epochs=10, validation_split=0.1,callbacks=[tensorboard])"
   ]
  },
  {
   "cell_type": "code",
   "execution_count": 9,
   "id": "b6f4fe28",
   "metadata": {},
   "outputs": [],
   "source": [
    "def prepare(filepath):\n",
    "    img_array=cv2.imread(filepath, cv2.IMREAD_GRAYSCALE)\n",
    "    new_array=cv2.resize(img_array, (50,50))\n",
    "    return new_array.reshape(-1,50,50,1)"
   ]
  },
  {
   "cell_type": "code",
   "execution_count": 12,
   "id": "0afe81cc",
   "metadata": {},
   "outputs": [
    {
     "name": "stdout",
     "output_type": "stream",
     "text": [
      "1/1 [==============================] - 0s 98ms/step\n",
      "Cat\n"
     ]
    }
   ],
   "source": [
    "prediction = model.predict([prepare('rsz_21-little-red-cat.jpg')])\n",
    "print(CATEGORIES[int(prediction[0][0])])"
   ]
  },
  {
   "cell_type": "code",
   "execution_count": 13,
   "id": "c61a08c7",
   "metadata": {},
   "outputs": [
    {
     "name": "stdout",
     "output_type": "stream",
     "text": [
      "1/1 [==============================] - 0s 22ms/step\n",
      "Dog\n"
     ]
    }
   ],
   "source": [
    "prediction = model.predict([prepare('rsz_images_1.jpg')])\n",
    "print(CATEGORIES[int(prediction[0][0])])"
   ]
  }
 ],
 "metadata": {
  "kernelspec": {
   "display_name": "Python 3 (ipykernel)",
   "language": "python",
   "name": "python3"
  },
  "language_info": {
   "codemirror_mode": {
    "name": "ipython",
    "version": 3
   },
   "file_extension": ".py",
   "mimetype": "text/x-python",
   "name": "python",
   "nbconvert_exporter": "python",
   "pygments_lexer": "ipython3",
   "version": "3.8.15"
  }
 },
 "nbformat": 4,
 "nbformat_minor": 5
}
